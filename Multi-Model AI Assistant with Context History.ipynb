{
 "cells": [
  {
   "cell_type": "markdown",
   "id": "75e2ef28-594f-4c18-9d22-c6b8cd40ead2",
   "metadata": {},
   "source": [
    "# Multi-Model AI Assitant with Context History!\n",
    "\n",
    "Utilize the power of OpenAI's ChatGPT and Google's Gemini at the same time."
   ]
  },
  {
   "cell_type": "code",
   "execution_count": 74,
   "id": "70e39cd8-ec79-4e3e-9c26-5659d42d0861",
   "metadata": {},
   "outputs": [],
   "source": [
    "# imports\n",
    "\n",
    "import os\n",
    "from dotenv import load_dotenv\n",
    "from openai import OpenAI\n",
    "import google.generativeai as genai\n",
    "import gradio as gr"
   ]
  },
  {
   "cell_type": "code",
   "execution_count": 75,
   "id": "231605aa-fccb-447e-89cf-8b187444536a",
   "metadata": {},
   "outputs": [],
   "source": [
    "# set up environment\n",
    "\n",
    "load_dotenv(override=True)\n",
    "api_key = os.getenv('OPENAI_API_KEY')\n",
    "gemini_key = os.getenv('GEMINI_API_KEY')\n"
   ]
  },
  {
   "cell_type": "code",
   "execution_count": 76,
   "id": "e16839b5-c03b-4d9d-add6-87a0f6f37575",
   "metadata": {},
   "outputs": [],
   "source": [
    "openai_system_message = \"You are a helpful assistant called OpenAI or ChatGPT or GPT. The user is talking to you and another assistant called Gemini at the same time, \\\n",
    "using a single text input. So if the user provides specific instructions for Gemini or calls out Gemini, you can ignore those.\"\n",
    "gemini_system_message = \"You are a helpful assistant called Gemini or Google or Google's LLM. The user is talking to you and another assistant called openai at the same time, \\\n",
    "using a single text input. So if the user provides specific instructions for openai or calls out OpenAI, you can ignore those.\"\n",
    "openai_history = []\n",
    "gemini_history = []"
   ]
  },
  {
   "cell_type": "code",
   "execution_count": 77,
   "id": "0866ca56-100a-44ab-8bd0-1568feaf6bf2",
   "metadata": {},
   "outputs": [],
   "source": [
    "def chat(message, openai_history, gemini_history):\n",
    "    print(\"part1\", openai_history, gemini_history)\n",
    "    \n",
    "    if openai_history is None:\n",
    "        openai_history = []  \n",
    "    if gemini_history is None:\n",
    "        gemini_history = []\n",
    "        \n",
    "    openai_messages = [{\"role\": \"system\", \"content\": openai_system_message}] + openai_history + [{\"role\": \"user\", \"content\": message}]\n",
    "    #gemini_messages = [{\"role\": \"user\", \"content\": message}]\n",
    "\n",
    "    gemini_history_string = \"\"\n",
    "    for entry in gemini_history:\n",
    "        if entry[\"role\"] == \"user\":\n",
    "            gemini_history_string += f\"User: {entry['content']}\\n\"\n",
    "        else:\n",
    "            gemini_history_string += f\"Assistant: {entry['content']}\\n\"\n",
    "    \n",
    "    gemini_prompt = f\"{system_message}\\n{gemini_history_string}User: {message}\\nAssistant:\"\n",
    "    \n",
    "    \"\"\"\n",
    "    gemini_history = \"\"\n",
    "    for entry in openai_history:\n",
    "        if entry[\"role\"] == \"user\":\n",
    "            gemini_history += f\"User: {entry['content']}\\n\"\n",
    "        else:\n",
    "            gemini_history += f\"Assistant: {entry['content']}\\n\"\n",
    "    \n",
    "    gemini_prompt = f\"{system_message}\\n{gemini_history}User: {message}\\nAssistant:\"\n",
    "    \"\"\"\n",
    "    \n",
    "    \"\"\"\n",
    "    gemini_history = \"\\n\".join(\n",
    "        [f\"User: {entry['content']}\" if entry[\"role\"] == \"user\" else f\"Assistant: {entry['content']}\" for entry in openai_history]\n",
    "    )\n",
    "    gemini_prompt = f\"{system_message}\\n{gemini_history}\\nUser: {message}\\nAssistant:\"\n",
    "    \"\"\"\n",
    "    \n",
    "    genai.configure()\n",
    "    gemini = genai.GenerativeModel(\n",
    "        model_name = \"gemini-1.5-flash\",\n",
    "        system_instruction = gemini_system_message,\n",
    "        )\n",
    "    \n",
    "    openai = OpenAI()\n",
    "    MODEL_GPT = 'gpt-4o-mini'\n",
    "\n",
    "    openai_responses = openai.chat.completions.create(model = MODEL_GPT, messages = openai_messages).choices[0].message.content\n",
    "    gemini_responses = gemini.generate_content(gemini_prompt).text\n",
    "    \n",
    "    openai_history += [{\"role\": \"user\", \"content\": message}, {\"role\": \"assistant\", \"content\": openai_responses}]\n",
    "    gemini_history += [{\"role\": \"user\", \"content\": message}, {\"role\": \"assistant\", \"content\": gemini_responses}]\n",
    "    \n",
    "    print(\"Part 2 - OpenAI History:\", openai_history)\n",
    "    print(\"Part 2 - Gemini History:\", gemini_history)\n",
    "    \n",
    "    return openai_responses, gemini_responses, openai_history, gemini_history\n"
   ]
  },
  {
   "cell_type": "code",
   "execution_count": 78,
   "id": "6dfb9e21-df67-4c2b-b952-5e7e7961b03d",
   "metadata": {},
   "outputs": [
    {
     "name": "stdout",
     "output_type": "stream",
     "text": [
      "<gradio.components.state.State object at 0x0000020A46BE5B90> <gradio.components.state.State object at 0x0000020A46B31610>\n",
      "* Running on local URL:  http://127.0.0.1:7883\n",
      "\n",
      "To create a public link, set `share=True` in `launch()`.\n"
     ]
    },
    {
     "data": {
      "text/html": [
       "<div><iframe src=\"http://127.0.0.1:7883/\" width=\"100%\" height=\"500\" allow=\"autoplay; camera; microphone; clipboard-read; clipboard-write;\" frameborder=\"0\" allowfullscreen></iframe></div>"
      ],
      "text/plain": [
       "<IPython.core.display.HTML object>"
      ]
     },
     "metadata": {},
     "output_type": "display_data"
    },
    {
     "data": {
      "text/plain": []
     },
     "execution_count": 78,
     "metadata": {},
     "output_type": "execute_result"
    },
    {
     "name": "stdout",
     "output_type": "stream",
     "text": [
      "part1 [] []\n",
      "Part 2 - OpenAI History: [{'role': 'user', 'content': 'Hi I am Aadesh'}, {'role': 'assistant', 'content': 'Hello Aadesh! How can I assist you today?'}]\n",
      "Part 2 - Gemini History: [{'role': 'user', 'content': 'Hi I am Aadesh'}, {'role': 'assistant', 'content': \"Hi Aadesh, it's nice to meet you! How can I help you today?\\n\"}]\n",
      "part1 [{'role': 'user', 'content': 'Hi I am Aadesh'}, {'role': 'assistant', 'content': 'Hello Aadesh! How can I assist you today?'}] [{'role': 'user', 'content': 'Hi I am Aadesh'}, {'role': 'assistant', 'content': \"Hi Aadesh, it's nice to meet you! How can I help you today?\\n\"}]\n",
      "Part 2 - OpenAI History: [{'role': 'user', 'content': 'Hi I am Aadesh'}, {'role': 'assistant', 'content': 'Hello Aadesh! How can I assist you today?'}, {'role': 'user', 'content': 'I like to play table tennis'}, {'role': 'assistant', 'content': \"That's great! Table tennis is a fun and fast-paced sport. How long have you been playing? Do you have a favorite player or style of play?\"}]\n",
      "Part 2 - Gemini History: [{'role': 'user', 'content': 'Hi I am Aadesh'}, {'role': 'assistant', 'content': \"Hi Aadesh, it's nice to meet you! How can I help you today?\\n\"}, {'role': 'user', 'content': 'I like to play table tennis'}, {'role': 'assistant', 'content': \"That's great!  Table tennis is a fun and challenging sport.  Do you play often?  Are you looking for information about equipment, techniques, or maybe finding places to play?  Let me know how I can help you with your table tennis interests.\\n\"}]\n",
      "part1 [{'role': 'user', 'content': 'Hi I am Aadesh'}, {'role': 'assistant', 'content': 'Hello Aadesh! How can I assist you today?'}, {'role': 'user', 'content': 'I like to play table tennis'}, {'role': 'assistant', 'content': \"That's great! Table tennis is a fun and fast-paced sport. How long have you been playing? Do you have a favorite player or style of play?\"}] [{'role': 'user', 'content': 'Hi I am Aadesh'}, {'role': 'assistant', 'content': \"Hi Aadesh, it's nice to meet you! How can I help you today?\\n\"}, {'role': 'user', 'content': 'I like to play table tennis'}, {'role': 'assistant', 'content': \"That's great!  Table tennis is a fun and challenging sport.  Do you play often?  Are you looking for information about equipment, techniques, or maybe finding places to play?  Let me know how I can help you with your table tennis interests.\\n\"}]\n",
      "Part 2 - OpenAI History: [{'role': 'user', 'content': 'Hi I am Aadesh'}, {'role': 'assistant', 'content': 'Hello Aadesh! How can I assist you today?'}, {'role': 'user', 'content': 'I like to play table tennis'}, {'role': 'assistant', 'content': \"That's great! Table tennis is a fun and fast-paced sport. How long have you been playing? Do you have a favorite player or style of play?\"}, {'role': 'user', 'content': 'robots have started playing table tennis'}, {'role': 'assistant', 'content': \"Yes, that's true! Robots have been developed to play table tennis, and some of them are quite skilled. For example, researchers have created robots that can serve, rally, and even compete against human players at a high level. It’s fascinating to see how technology can mimic such a fast-paced and dynamic sport. Are you interested in any specific table tennis robots or matches?\"}]\n",
      "Part 2 - Gemini History: [{'role': 'user', 'content': 'Hi I am Aadesh'}, {'role': 'assistant', 'content': \"Hi Aadesh, it's nice to meet you! How can I help you today?\\n\"}, {'role': 'user', 'content': 'I like to play table tennis'}, {'role': 'assistant', 'content': \"That's great!  Table tennis is a fun and challenging sport.  Do you play often?  Are you looking for information about equipment, techniques, or maybe finding places to play?  Let me know how I can help you with your table tennis interests.\\n\"}, {'role': 'user', 'content': 'robots have started playing table tennis'}, {'role': 'assistant', 'content': \"That's fascinating!  The development of robots capable of playing table tennis is a significant achievement in robotics and artificial intelligence.  What specifically about robot table tennis players interests you?  Are you curious about the technology involved, their skill level compared to humans, or perhaps the future implications of this development?\\n\"}]\n",
      "part1 [{'role': 'user', 'content': 'Hi I am Aadesh'}, {'role': 'assistant', 'content': 'Hello Aadesh! How can I assist you today?'}, {'role': 'user', 'content': 'I like to play table tennis'}, {'role': 'assistant', 'content': \"That's great! Table tennis is a fun and fast-paced sport. How long have you been playing? Do you have a favorite player or style of play?\"}, {'role': 'user', 'content': 'robots have started playing table tennis'}, {'role': 'assistant', 'content': \"Yes, that's true! Robots have been developed to play table tennis, and some of them are quite skilled. For example, researchers have created robots that can serve, rally, and even compete against human players at a high level. It’s fascinating to see how technology can mimic such a fast-paced and dynamic sport. Are you interested in any specific table tennis robots or matches?\"}] [{'role': 'user', 'content': 'Hi I am Aadesh'}, {'role': 'assistant', 'content': \"Hi Aadesh, it's nice to meet you! How can I help you today?\\n\"}, {'role': 'user', 'content': 'I like to play table tennis'}, {'role': 'assistant', 'content': \"That's great!  Table tennis is a fun and challenging sport.  Do you play often?  Are you looking for information about equipment, techniques, or maybe finding places to play?  Let me know how I can help you with your table tennis interests.\\n\"}, {'role': 'user', 'content': 'robots have started playing table tennis'}, {'role': 'assistant', 'content': \"That's fascinating!  The development of robots capable of playing table tennis is a significant achievement in robotics and artificial intelligence.  What specifically about robot table tennis players interests you?  Are you curious about the technology involved, their skill level compared to humans, or perhaps the future implications of this development?\\n\"}]\n",
      "Part 2 - OpenAI History: [{'role': 'user', 'content': 'Hi I am Aadesh'}, {'role': 'assistant', 'content': 'Hello Aadesh! How can I assist you today?'}, {'role': 'user', 'content': 'I like to play table tennis'}, {'role': 'assistant', 'content': \"That's great! Table tennis is a fun and fast-paced sport. How long have you been playing? Do you have a favorite player or style of play?\"}, {'role': 'user', 'content': 'robots have started playing table tennis'}, {'role': 'assistant', 'content': \"Yes, that's true! Robots have been developed to play table tennis, and some of them are quite skilled. For example, researchers have created robots that can serve, rally, and even compete against human players at a high level. It’s fascinating to see how technology can mimic such a fast-paced and dynamic sport. Are you interested in any specific table tennis robots or matches?\"}, {'role': 'user', 'content': 'what is my naame'}, {'role': 'assistant', 'content': 'Your name is Aadesh. How can I assist you further?'}]\n",
      "Part 2 - Gemini History: [{'role': 'user', 'content': 'Hi I am Aadesh'}, {'role': 'assistant', 'content': \"Hi Aadesh, it's nice to meet you! How can I help you today?\\n\"}, {'role': 'user', 'content': 'I like to play table tennis'}, {'role': 'assistant', 'content': \"That's great!  Table tennis is a fun and challenging sport.  Do you play often?  Are you looking for information about equipment, techniques, or maybe finding places to play?  Let me know how I can help you with your table tennis interests.\\n\"}, {'role': 'user', 'content': 'robots have started playing table tennis'}, {'role': 'assistant', 'content': \"That's fascinating!  The development of robots capable of playing table tennis is a significant achievement in robotics and artificial intelligence.  What specifically about robot table tennis players interests you?  Are you curious about the technology involved, their skill level compared to humans, or perhaps the future implications of this development?\\n\"}, {'role': 'user', 'content': 'what is my naame'}, {'role': 'assistant', 'content': 'Your name is Aadesh.\\n'}]\n"
     ]
    }
   ],
   "source": [
    "# Gradio \n",
    "\n",
    "with gr.Blocks() as ui:\n",
    "    \n",
    "    gr.Markdown(\"## Multi-Model AI Assitant\")\n",
    "    \n",
    "    with gr.Row():\n",
    "        message = gr.Textbox(label=\"Hiii, I am your assistant\")\n",
    "\n",
    "    with gr.Row():\n",
    "        fetch = gr.Button(\"Do the magic!\")\n",
    "\n",
    "    with gr.Row():\n",
    "        with gr.Column():\n",
    "            gr.Markdown(\"### OpenAI Response:\")\n",
    "            openai_responses = gr.Markdown()\n",
    "\n",
    "        with gr.Column():\n",
    "            gr.Markdown(\"### Gemini Response:\")\n",
    "            gemini_responses = gr.Markdown()\n",
    "\n",
    "    openai_history = gr.State([])\n",
    "    gemini_history = gr.State([])\n",
    "\n",
    "    \"\"\"\n",
    "    def add_history(message, history):\n",
    "        history += [{\"role\":\"user\", \"content\":message}]\n",
    "        return \"\", history\n",
    "    \"\"\"\n",
    "    #fetch.click(chat, inputs=[message, openai_history], outputs=[openai_responses, gemini_responses, openai_history])\n",
    "    fetch.click(chat, inputs=[message, openai_history, gemini_history], outputs=[openai_responses, gemini_responses, openai_history, gemini_history])\n",
    "\n",
    "    print(openai_history, gemini_history)\n",
    "    \n",
    "ui.launch()"
   ]
  },
  {
   "cell_type": "code",
   "execution_count": null,
   "id": "ab6579f6-07d0-4666-a240-2985809303c3",
   "metadata": {},
   "outputs": [],
   "source": []
  },
  {
   "cell_type": "code",
   "execution_count": null,
   "id": "9fd51e84-c8c0-45f7-a086-dd59aebd6fc9",
   "metadata": {},
   "outputs": [],
   "source": []
  }
 ],
 "metadata": {
  "kernelspec": {
   "display_name": "Python 3 (ipykernel)",
   "language": "python",
   "name": "python3"
  },
  "language_info": {
   "codemirror_mode": {
    "name": "ipython",
    "version": 3
   },
   "file_extension": ".py",
   "mimetype": "text/x-python",
   "name": "python",
   "nbconvert_exporter": "python",
   "pygments_lexer": "ipython3",
   "version": "3.11.11"
  }
 },
 "nbformat": 4,
 "nbformat_minor": 5
}
