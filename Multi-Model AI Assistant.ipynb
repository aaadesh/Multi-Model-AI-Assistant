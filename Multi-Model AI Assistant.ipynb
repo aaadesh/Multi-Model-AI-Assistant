{
 "cells": [
  {
   "cell_type": "markdown",
   "id": "75e2ef28-594f-4c18-9d22-c6b8cd40ead2",
   "metadata": {},
   "source": [
    "# Multi-Model AI Assitant!\n",
    "\n",
    "Utilize the power of OpenAI's ChatGPT and Google's Gemini at the same time."
   ]
  },
  {
   "cell_type": "code",
   "execution_count": 44,
   "id": "70e39cd8-ec79-4e3e-9c26-5659d42d0861",
   "metadata": {},
   "outputs": [],
   "source": [
    "# imports\n",
    "\n",
    "import os\n",
    "from dotenv import load_dotenv\n",
    "from openai import OpenAI\n",
    "import google.generativeai as genai\n",
    "import gradio as gr"
   ]
  },
  {
   "cell_type": "code",
   "execution_count": 45,
   "id": "231605aa-fccb-447e-89cf-8b187444536a",
   "metadata": {},
   "outputs": [],
   "source": [
    "# set up environment\n",
    "\n",
    "load_dotenv(override=True)\n",
    "api_key = os.getenv('OPENAI_API_KEY')\n",
    "gemini_key = os.getenv('GEMINI_API_KEY')\n"
   ]
  },
  {
   "cell_type": "code",
   "execution_count": 46,
   "id": "e16839b5-c03b-4d9d-add6-87a0f6f37575",
   "metadata": {},
   "outputs": [],
   "source": [
    "system_message = \"You are a helpful assistant.\""
   ]
  },
  {
   "cell_type": "code",
   "execution_count": 47,
   "id": "0866ca56-100a-44ab-8bd0-1568feaf6bf2",
   "metadata": {},
   "outputs": [],
   "source": [
    "def chat(message):\n",
    "    \n",
    "    genai.configure()\n",
    "    gemini = genai.GenerativeModel(\n",
    "        model_name=\"gemini-1.5-flash\",\n",
    "        system_instruction=system_message,\n",
    "        )\n",
    "    \n",
    "    openai = OpenAI()\n",
    "    MODEL_GPT = 'gpt-4o-mini'\n",
    "\n",
    "    openai_messages = [{\"role\": \"system\", \"content\": system_message}, {\"role\": \"user\", \"content\": message}]\n",
    "    #gemini_messages = [{\"role\": \"user\", \"content\": message}]\n",
    "    \n",
    "    openai_responses = openai.chat.completions.create(model=MODEL_GPT, messages=openai_messages).choices[0].message.content\n",
    "    gemini_responses = gemini.generate_content(message).text\n",
    "\n",
    "    return openai_responses, gemini_responses\n"
   ]
  },
  {
   "cell_type": "code",
   "execution_count": 48,
   "id": "6dfb9e21-df67-4c2b-b952-5e7e7961b03d",
   "metadata": {},
   "outputs": [
    {
     "name": "stdout",
     "output_type": "stream",
     "text": [
      "* Running on local URL:  http://127.0.0.1:7903\n",
      "\n",
      "To create a public link, set `share=True` in `launch()`.\n"
     ]
    },
    {
     "data": {
      "text/html": [
       "<div><iframe src=\"http://127.0.0.1:7903/\" width=\"100%\" height=\"500\" allow=\"autoplay; camera; microphone; clipboard-read; clipboard-write;\" frameborder=\"0\" allowfullscreen></iframe></div>"
      ],
      "text/plain": [
       "<IPython.core.display.HTML object>"
      ]
     },
     "metadata": {},
     "output_type": "display_data"
    },
    {
     "data": {
      "text/plain": []
     },
     "execution_count": 48,
     "metadata": {},
     "output_type": "execute_result"
    }
   ],
   "source": [
    "# Gradio \n",
    "\n",
    "with gr.Blocks() as ui:\n",
    "    \n",
    "    gr.Markdown(\"## Multi-Model AI Assitant\")\n",
    "    \n",
    "    with gr.Row():\n",
    "        message = gr.Textbox(label=\"Hiii, I am your assistant\")\n",
    "\n",
    "    with gr.Row():\n",
    "        fetch = gr.Button(\"Get response\")\n",
    "\n",
    "    with gr.Row():\n",
    "        with gr.Column():\n",
    "            gr.Markdown(\"### OpenAI Response:\")\n",
    "            openai_responses = gr.Markdown()\n",
    "\n",
    "        with gr.Column():\n",
    "            gr.Markdown(\"### Gemini Response:\")\n",
    "            gemini_responses = gr.Markdown()\n",
    "\n",
    "    fetch.click(chat, inputs=[message], outputs=[openai_responses, gemini_responses])\n",
    "    \n",
    "ui.launch()"
   ]
  },
  {
   "cell_type": "code",
   "execution_count": null,
   "id": "ab6579f6-07d0-4666-a240-2985809303c3",
   "metadata": {},
   "outputs": [],
   "source": []
  }
 ],
 "metadata": {
  "kernelspec": {
   "display_name": "Python 3 (ipykernel)",
   "language": "python",
   "name": "python3"
  },
  "language_info": {
   "codemirror_mode": {
    "name": "ipython",
    "version": 3
   },
   "file_extension": ".py",
   "mimetype": "text/x-python",
   "name": "python",
   "nbconvert_exporter": "python",
   "pygments_lexer": "ipython3",
   "version": "3.11.11"
  }
 },
 "nbformat": 4,
 "nbformat_minor": 5
}
